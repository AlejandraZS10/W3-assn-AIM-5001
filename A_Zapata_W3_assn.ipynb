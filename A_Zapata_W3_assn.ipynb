{
 "cells": [
  {
   "cell_type": "markdown",
   "metadata": {},
   "source": [
    "# Week 3 Assignment"
   ]
  },
  {
   "cell_type": "code",
   "execution_count": 1,
   "metadata": {},
   "outputs": [
    {
     "name": "stdout",
     "output_type": "stream",
     "text": [
      "['high', 'high', '2', '4', 'med', 'low', 'unacc']\n",
      "['high', 'high', '4', 'more', 'small', 'high', 'acc']\n",
      "['high', 'high', '4', 'more', 'big', 'low', 'unacc']\n",
      "['high', 'low', '2', 'more', 'big', 'high', 'acc']\n",
      "['vhigh', 'low', '3', '2', 'med', 'med', 'unacc']\n",
      "['low', 'high', '2', '2', 'small', 'low', 'unacc']\n",
      "['med', 'med', '4', 'more', 'med', 'high', 'vgood']\n",
      "['low', 'low', '3', '2', 'big', 'med', 'unacc']\n",
      "['vhigh', 'low', '2', '2', 'small', 'low', 'unacc']\n",
      "['vhigh', 'high', '4', '4', 'med', 'low', 'unacc']\n",
      "['low', 'low', '2', '2', 'med', 'med', 'unacc']\n",
      "['vhigh', 'low', '4', 'more', 'small', 'high', 'acc']\n",
      "['high', 'low', '2', '4', 'big', 'med', 'acc']\n",
      "['low', 'vhigh', '3', 'more', 'big', 'low', 'unacc']\n",
      "['high', 'low', '5more', '2', 'big', 'med', 'unacc']\n",
      "['vhigh', 'high', '2', 'more', 'med', 'high', 'unacc']\n",
      "['med', 'med', '2', '2', 'small', 'low', 'unacc']\n",
      "['high', 'low', '5more', '4', 'med', 'high', 'acc']\n",
      "['low', 'low', '3', 'more', 'med', 'high', 'vgood']\n",
      "['low', 'low', '2', '2', 'big', 'med', 'unacc']\n",
      "['med', 'high', '4', '2', 'big', 'high', 'unacc']\n",
      "['low', 'low', '2', '2', 'small', 'high', 'unacc']\n",
      "['vhigh', 'high', '5more', '4', 'med', 'med', 'unacc']\n",
      "['med', 'vhigh', '2', '2', 'big', 'low', 'unacc']\n",
      "['low', 'vhigh', '4', '4', 'big', 'low', 'unacc']\n",
      "['vhigh', 'low', '3', 'more', 'big', 'low', 'unacc']\n",
      "['med', 'vhigh', '3', '4', 'small', 'low', 'unacc']\n",
      "['high', 'high', '3', '4', 'med', 'med', 'unacc']\n",
      "['low', 'high', '5more', '2', 'big', 'low', 'unacc']\n",
      "['med', 'high', '5more', '2', 'med', 'med', 'unacc']\n",
      "['high', 'low', '3', '4', 'med', 'high', 'acc']\n",
      "['high', 'vhigh', '5more', '4', 'med', 'med', 'unacc']\n",
      "['low', 'low', '5more', '2', 'med', 'low', 'unacc']\n",
      "['vhigh', 'vhigh', '4', '2', 'big', 'high', 'unacc']\n",
      "['high', 'low', '3', '2', 'big', 'high', 'unacc']\n"
     ]
    }
   ],
   "source": [
    "import csv\n",
    "# be sure to update the path below to reflect your own environment!!\n",
    "# also be sure that the code is properly indented after you paste it!\n",
    "with open(r'/Users/alejandrazapatasoveranez/Dropbox/Yeshiva/AIM 5001-200/W2 Assignment/cars-sample35.txt') as csvfile:\n",
    " readCSV = csv.reader(csvfile)\n",
    " for row in readCSV:\n",
    "  # print each row as read by the csv.reader function\n",
    "  print(row)"
   ]
  },
  {
   "cell_type": "code",
   "execution_count": 2,
   "metadata": {},
   "outputs": [
    {
     "name": "stdout",
     "output_type": "stream",
     "text": [
      "[['high', 'high', '2', '4', 'med', 'low', 'unacc'], ['high', 'high', '4', 'more', 'small', 'high', 'acc'], ['high', 'high', '4', 'more', 'big', 'low', 'unacc'], ['high', 'low', '2', 'more', 'big', 'high', 'acc'], ['vhigh', 'low', '3', '2', 'med', 'med', 'unacc'], ['low', 'high', '2', '2', 'small', 'low', 'unacc'], ['med', 'med', '4', 'more', 'med', 'high', 'vgood'], ['low', 'low', '3', '2', 'big', 'med', 'unacc'], ['vhigh', 'low', '2', '2', 'small', 'low', 'unacc'], ['vhigh', 'high', '4', '4', 'med', 'low', 'unacc'], ['low', 'low', '2', '2', 'med', 'med', 'unacc'], ['vhigh', 'low', '4', 'more', 'small', 'high', 'acc'], ['high', 'low', '2', '4', 'big', 'med', 'acc'], ['low', 'vhigh', '3', 'more', 'big', 'low', 'unacc'], ['high', 'low', '5more', '2', 'big', 'med', 'unacc'], ['vhigh', 'high', '2', 'more', 'med', 'high', 'unacc'], ['med', 'med', '2', '2', 'small', 'low', 'unacc'], ['high', 'low', '5more', '4', 'med', 'high', 'acc'], ['low', 'low', '3', 'more', 'med', 'high', 'vgood'], ['low', 'low', '2', '2', 'big', 'med', 'unacc'], ['med', 'high', '4', '2', 'big', 'high', 'unacc'], ['low', 'low', '2', '2', 'small', 'high', 'unacc'], ['vhigh', 'high', '5more', '4', 'med', 'med', 'unacc'], ['med', 'vhigh', '2', '2', 'big', 'low', 'unacc'], ['low', 'vhigh', '4', '4', 'big', 'low', 'unacc'], ['vhigh', 'low', '3', 'more', 'big', 'low', 'unacc'], ['med', 'vhigh', '3', '4', 'small', 'low', 'unacc'], ['high', 'high', '3', '4', 'med', 'med', 'unacc'], ['low', 'high', '5more', '2', 'big', 'low', 'unacc'], ['med', 'high', '5more', '2', 'med', 'med', 'unacc'], ['high', 'low', '3', '4', 'med', 'high', 'acc'], ['high', 'vhigh', '5more', '4', 'med', 'med', 'unacc'], ['low', 'low', '5more', '2', 'med', 'low', 'unacc'], ['vhigh', 'vhigh', '4', '2', 'big', 'high', 'unacc'], ['high', 'low', '3', '2', 'big', 'high', 'unacc']]\n"
     ]
    }
   ],
   "source": [
    "# I created the a list where each sublist has the seven values for each car.\n",
    "\n",
    "carslist=[['high', 'high', '2', '4', 'med', 'low', 'unacc'],\n",
    "['high', 'high', '4', 'more', 'small', 'high', 'acc'],\n",
    "['high', 'high', '4', 'more', 'big', 'low', 'unacc'],\n",
    "['high', 'low', '2', 'more', 'big', 'high', 'acc'],\n",
    "['vhigh', 'low', '3', '2', 'med', 'med', 'unacc'],\n",
    "['low', 'high', '2', '2', 'small', 'low', 'unacc'],\n",
    "['med', 'med', '4', 'more', 'med', 'high', 'vgood'],\n",
    "['low', 'low', '3', '2', 'big', 'med', 'unacc'],\n",
    "['vhigh', 'low', '2', '2', 'small', 'low', 'unacc'],\n",
    "['vhigh', 'high', '4', '4', 'med', 'low', 'unacc'],\n",
    "['low', 'low', '2', '2', 'med', 'med', 'unacc'],\n",
    "['vhigh', 'low', '4', 'more', 'small', 'high', 'acc'],\n",
    "['high', 'low', '2', '4', 'big', 'med', 'acc'],\n",
    "['low', 'vhigh', '3', 'more', 'big', 'low', 'unacc'],\n",
    "['high', 'low', '5more', '2', 'big', 'med', 'unacc'],\n",
    "['vhigh', 'high', '2', 'more', 'med', 'high', 'unacc'],\n",
    "['med', 'med', '2', '2', 'small', 'low', 'unacc'],\n",
    "['high', 'low', '5more', '4', 'med', 'high', 'acc'],\n",
    "['low', 'low', '3', 'more', 'med', 'high', 'vgood'],\n",
    "['low', 'low', '2', '2', 'big', 'med', 'unacc'],\n",
    "['med', 'high', '4', '2', 'big', 'high', 'unacc'],\n",
    "['low', 'low', '2', '2', 'small', 'high', 'unacc'],\n",
    "['vhigh', 'high', '5more', '4', 'med', 'med', 'unacc'],\n",
    "['med', 'vhigh', '2', '2', 'big', 'low', 'unacc'],\n",
    "['low', 'vhigh', '4', '4', 'big', 'low', 'unacc'],\n",
    "['vhigh', 'low', '3', 'more', 'big', 'low', 'unacc'],\n",
    "['med', 'vhigh', '3', '4', 'small', 'low', 'unacc'],\n",
    "['high', 'high', '3', '4', 'med', 'med', 'unacc'],\n",
    "['low', 'high', '5more', '2', 'big', 'low', 'unacc'],\n",
    "['med', 'high', '5more', '2', 'med', 'med', 'unacc'],\n",
    "['high', 'low', '3', '4', 'med', 'high', 'acc'],\n",
    "['high', 'vhigh', '5more', '4', 'med', 'med', 'unacc'],\n",
    "['low', 'low', '5more', '2', 'med', 'low', 'unacc'],\n",
    "['vhigh', 'vhigh', '4', '2', 'big', 'high', 'unacc'],\n",
    "['high', 'low', '3', '2', 'big', 'high', 'unacc']]\n",
    "\n",
    "print(carslist)"
   ]
  },
  {
   "cell_type": "code",
   "execution_count": 3,
   "metadata": {},
   "outputs": [
    {
     "name": "stdout",
     "output_type": "stream",
     "text": [
      "['high', 'high', 'high', 'high', 'vhigh', 'low', 'med', 'low', 'vhigh', 'vhigh', 'low', 'vhigh', 'high', 'low', 'high', 'vhigh', 'med', 'high', 'low', 'low', 'med', 'low', 'vhigh', 'med', 'low', 'vhigh', 'med', 'high', 'low', 'med', 'high', 'high', 'low', 'vhigh', 'high']\n"
     ]
    }
   ],
   "source": [
    "## 1 Price List\n",
    "\n",
    "#Function to slice the sublists into the new list\n",
    "def Extract_Price(carslist): \n",
    "    return [item[0] for item in carslist] \n",
    "\n",
    "print(Extract_Price(carslist))"
   ]
  },
  {
   "cell_type": "code",
   "execution_count": 5,
   "metadata": {},
   "outputs": [
    {
     "name": "stdout",
     "output_type": "stream",
     "text": [
      "['high', 'high', 'high', 'low', 'low', 'high', 'med', 'low', 'low', 'high', 'low', 'low', 'low', 'vhigh', 'low', 'high', 'med', 'low', 'low', 'low', 'high', 'low', 'high', 'vhigh', 'vhigh', 'low', 'vhigh', 'high', 'high', 'high', 'low', 'vhigh', 'low', 'vhigh', 'low']\n"
     ]
    }
   ],
   "source": [
    "## 2 Maintenance Cost\n",
    "\n",
    "#Function to slice the sublists into the new list\n",
    "def ExtractMaintenance(carslist): \n",
    "    return [item[1] for item in carslist] \n",
    "\n",
    "print(ExtractMaintenance(carslist))"
   ]
  },
  {
   "cell_type": "code",
   "execution_count": 6,
   "metadata": {},
   "outputs": [
    {
     "name": "stdout",
     "output_type": "stream",
     "text": [
      "['2', '4', '4', '2', '3', '2', '4', '3', '2', '4', '2', '4', '2', '3', '5more', '2', '2', '5more', '3', '2', '4', '2', '5more', '2', '4', '3', '3', '3', '5more', '5more', '3', '5more', '5more', '4', '3']\n"
     ]
    }
   ],
   "source": [
    "## 3 Number of Doors\n",
    "\n",
    "#Function to slice the sublists into the new list\n",
    "def ExtractND(carslist): \n",
    "    return [item[2] for item in carslist] \n",
    "\n",
    "print(ExtractND(carslist))"
   ]
  },
  {
   "cell_type": "code",
   "execution_count": 7,
   "metadata": {},
   "outputs": [
    {
     "name": "stdout",
     "output_type": "stream",
     "text": [
      "['4', 'more', 'more', 'more', '2', '2', 'more', '2', '2', '4', '2', 'more', '4', 'more', '2', 'more', '2', '4', 'more', '2', '2', '2', '4', '2', '4', 'more', '4', '4', '2', '2', '4', '4', '2', '2', '2']\n"
     ]
    }
   ],
   "source": [
    "## 4 Number of Passengers\n",
    "\n",
    "#Function to slice the sublists into the new list\n",
    "def ExtractNP(carslist): \n",
    "    return [item[3] for item in carslist] \n",
    "\n",
    "print(ExtractNP(carslist))"
   ]
  },
  {
   "cell_type": "code",
   "execution_count": 8,
   "metadata": {},
   "outputs": [
    {
     "name": "stdout",
     "output_type": "stream",
     "text": [
      "['med', 'small', 'big', 'big', 'med', 'small', 'med', 'big', 'small', 'med', 'med', 'small', 'big', 'big', 'big', 'med', 'small', 'med', 'med', 'big', 'big', 'small', 'med', 'big', 'big', 'big', 'small', 'med', 'big', 'med', 'med', 'med', 'med', 'big', 'big']\n"
     ]
    }
   ],
   "source": [
    "## 5 Luggage Capacity\n",
    "\n",
    "#Function to slice the sublists into the new list\n",
    "def ExtractLC(carslist): \n",
    "    return [item[4] for item in carslist] \n",
    "\n",
    "print(ExtractLC(carslist))"
   ]
  },
  {
   "cell_type": "code",
   "execution_count": 9,
   "metadata": {},
   "outputs": [
    {
     "name": "stdout",
     "output_type": "stream",
     "text": [
      "['low', 'high', 'low', 'high', 'med', 'low', 'high', 'med', 'low', 'low', 'med', 'high', 'med', 'low', 'med', 'high', 'low', 'high', 'high', 'med', 'high', 'high', 'med', 'low', 'low', 'low', 'low', 'med', 'low', 'med', 'high', 'med', 'low', 'high', 'high']\n"
     ]
    }
   ],
   "source": [
    "## 6 Safety Rating\n",
    "\n",
    "#Function to slice the sublists into the new list\n",
    "def ExtractSR(carslist): \n",
    "    return [item[5] for item in carslist] \n",
    "\n",
    "print(ExtractSR(carslist))"
   ]
  },
  {
   "cell_type": "code",
   "execution_count": 10,
   "metadata": {},
   "outputs": [
    {
     "name": "stdout",
     "output_type": "stream",
     "text": [
      "['unacc', 'acc', 'unacc', 'acc', 'unacc', 'unacc', 'vgood', 'unacc', 'unacc', 'unacc', 'unacc', 'acc', 'acc', 'unacc', 'unacc', 'unacc', 'unacc', 'acc', 'vgood', 'unacc', 'unacc', 'unacc', 'unacc', 'unacc', 'unacc', 'unacc', 'unacc', 'unacc', 'unacc', 'unacc', 'acc', 'unacc', 'unacc', 'unacc', 'unacc']\n"
     ]
    }
   ],
   "source": [
    "## 7 Classification of Vehicle\n",
    "\n",
    "#Function to slice the sublists into the new list\n",
    "def ExtractCV(carslist): \n",
    "    return [item[6] for item in carslist] \n",
    "\n",
    "print(ExtractCV(carslist))"
   ]
  },
  {
   "cell_type": "markdown",
   "metadata": {},
   "source": [
    "## Task 1\n",
    "\n",
    "After creating the lists from last week's assignment I used the enumerate function in the list comprehension to extract the index values that were \"med\"."
   ]
  },
  {
   "cell_type": "code",
   "execution_count": 11,
   "metadata": {},
   "outputs": [
    {
     "data": {
      "text/plain": [
       "[6, 16, 20, 23, 26, 29]"
      ]
     },
     "execution_count": 11,
     "metadata": {},
     "output_type": "execute_result"
    }
   ],
   "source": [
    "#List comprehension to obtain the indexes with a \"med\" value\n",
    "\n",
    "[i for i, n in enumerate(Extract_Price(carslist)) if n == \"med\"]"
   ]
  },
  {
   "cell_type": "code",
   "execution_count": 12,
   "metadata": {},
   "outputs": [
    {
     "name": "stdout",
     "output_type": "stream",
     "text": [
      "[['med', 'med', '4', 'more', 'med', 'high', 'vgood'], ['med', 'med', '2', '2', 'small', 'low', 'unacc'], ['med', 'high', '4', '2', 'big', 'high', 'unacc'], ['med', 'vhigh', '2', '2', 'big', 'low', 'unacc'], ['med', 'vhigh', '3', '4', 'small', 'low', 'unacc'], ['med', 'high', '5more', '2', 'med', 'med', 'unacc']]\n"
     ]
    }
   ],
   "source": [
    "#This is a Medium Price list\n",
    "\n",
    "medlist=[carslist[6],carslist[16],carslist[20],carslist[23],carslist[26],carslist[29]]\n",
    "\n",
    "print(medlist)"
   ]
  },
  {
   "cell_type": "markdown",
   "metadata": {},
   "source": [
    "## Task 2\n",
    "From the list created on Task 2 we can use a simple \"value[ ] for value\" clause to specify that the items that should be printed are the ones with an index value of **3** because those are the numbers of passengers for each auto list."
   ]
  },
  {
   "cell_type": "code",
   "execution_count": 13,
   "metadata": {},
   "outputs": [
    {
     "data": {
      "text/plain": [
       "['more', '2', '2', '2', '4', '2']"
      ]
     },
     "execution_count": 13,
     "metadata": {},
     "output_type": "execute_result"
    }
   ],
   "source": [
    "#List comprehension to obtain the indexes with a \"med\" value\n",
    "\n",
    "passenges=[value[3] for value in medlist]\n",
    "\n",
    "passenges"
   ]
  },
  {
   "cell_type": "markdown",
   "metadata": {},
   "source": [
    "## Task 3\n",
    "For this task we first create our own function to find which index values on the lists have both of our conditions. Then we create a new list using the result."
   ]
  },
  {
   "cell_type": "code",
   "execution_count": 14,
   "metadata": {},
   "outputs": [
    {
     "name": "stdout",
     "output_type": "stream",
     "text": [
      "[0, 1, 2, 27, 31]\n"
     ]
    }
   ],
   "source": [
    "#First we define a simple way to illustrate the intersection in two lists\n",
    "def intersection(highprice_list, notlowm_list): \n",
    "    #define the list with a high price and NO low maintenance cost\n",
    "    indexes = [value for value in highprice_list if value in notlowm_list] \n",
    "    return indexes\n",
    "\n",
    "#Via list comprehension we obtain the indexes for each condition clause required on Task 3\n",
    "\n",
    "highprice_list=[i for i, n in enumerate(Extract_Price(carslist)) if n == \"high\"]\n",
    "\n",
    "notlowm_list=[i for i, n in enumerate(ExtractMaintenance(carslist)) if n != \"low\"]\n",
    "\n",
    "print(intersection(highprice_list,notlowm_list))"
   ]
  },
  {
   "cell_type": "code",
   "execution_count": 15,
   "metadata": {},
   "outputs": [
    {
     "name": "stdout",
     "output_type": "stream",
     "text": [
      "[['high', 'high', '2', '4', 'med', 'low', 'unacc'], ['high', 'high', '4', 'more', 'small', 'high', 'acc'], ['high', 'high', '4', 'more', 'big', 'low', 'unacc'], ['high', 'high', '3', '4', 'med', 'med', 'unacc'], ['high', 'vhigh', '5more', '4', 'med', 'med', 'unacc']]\n"
     ]
    }
   ],
   "source": [
    "#This is the new list with all the cars that have a 'High' Price and NOT a 'Low' Maintenance Cost\n",
    "\n",
    "New_List=[carslist[0],carslist[1],carslist[2],carslist[27],carslist[31]]\n",
    "\n",
    "print(New_List)"
   ]
  },
  {
   "cell_type": "markdown",
   "metadata": {},
   "source": [
    "## Task 4\n",
    "This list comprehension is telling us that every value inside the sublists is added to the new list."
   ]
  },
  {
   "cell_type": "code",
   "execution_count": 16,
   "metadata": {},
   "outputs": [],
   "source": [
    "nlist = [ [1, 2, 3], ['A', 'B', 'C'], [4, 5], ['D', 'E'] ]"
   ]
  },
  {
   "cell_type": "code",
   "execution_count": 17,
   "metadata": {},
   "outputs": [
    {
     "name": "stdout",
     "output_type": "stream",
     "text": [
      "[1, 2, 3, 'A', 'B', 'C', 4, 5, 'D', 'E']\n"
     ]
    }
   ],
   "source": [
    "flist = [val for sublist in nlist for val in sublist] \n",
    "  \n",
    "print(flist) "
   ]
  },
  {
   "cell_type": "markdown",
   "metadata": {},
   "source": [
    "## Task 5 & 6\n",
    "We define a function using a for loop and first mentioning that we can limit the length of the dictionary.\n",
    "Then we define the key by iterating 'A' plus an integer that becomes a string.\n",
    "Finally the function will show as a dictionary our created key and the list we define on the function."
   ]
  },
  {
   "cell_type": "code",
   "execution_count": 23,
   "metadata": {},
   "outputs": [
    {
     "name": "stdout",
     "output_type": "stream",
     "text": [
      "{'A0': 'high', 'A1': 'high', 'A2': 'high', 'A3': 'high', 'A4': 'vhigh', 'A5': 'low', 'A6': 'med'}\n"
     ]
    }
   ],
   "source": [
    "def makedict1(mylist, x = 5):\n",
    "    newdict = {}\n",
    "    \n",
    "    if x <= len(mylist): #assigns the x delimitation\n",
    "        \n",
    "        for i in range(x):\n",
    "\n",
    "            key = 'A' + str(i) #creates the key\n",
    "            newdict[key] = mylist[i] #dictionary format\n",
    "\n",
    "    return newdict\n",
    "\n",
    "\n",
    "#First 7 values of Dictionary of Price Range\n",
    "prices = Extract_Price(carslist)\n",
    "price_dict = makedict1(prices, 7)\n",
    "print(price_dict)"
   ]
  },
  {
   "cell_type": "code",
   "execution_count": 24,
   "metadata": {},
   "outputs": [
    {
     "name": "stdout",
     "output_type": "stream",
     "text": [
      "{'A0': 'med', 'A1': 'small', 'A2': 'big', 'A3': 'big', 'A4': 'med', 'A5': 'small', 'A6': 'med'}\n"
     ]
    }
   ],
   "source": [
    "#First 7 values of Dictionary of Price Range\n",
    "lugagge = ExtractLC(carslist)\n",
    "luga_dict = makedict1(lugagge, 7)\n",
    "print(luga_dict)"
   ]
  },
  {
   "cell_type": "code",
   "execution_count": 31,
   "metadata": {},
   "outputs": [
    {
     "name": "stdout",
     "output_type": "stream",
     "text": [
      "The auto define by key 'a4' has a price range of vhigh and a lugagge capacity of med\n"
     ]
    }
   ],
   "source": [
    "print(\"The auto define by key 'a4' has a price range of\", price_dict['A4'], \"and a lugagge capacity of\", luga_dict['A4']  )"
   ]
  }
 ],
 "metadata": {
  "kernelspec": {
   "display_name": "Python 3",
   "language": "python",
   "name": "python3"
  },
  "language_info": {
   "codemirror_mode": {
    "name": "ipython",
    "version": 3
   },
   "file_extension": ".py",
   "mimetype": "text/x-python",
   "name": "python",
   "nbconvert_exporter": "python",
   "pygments_lexer": "ipython3",
   "version": "3.7.6"
  }
 },
 "nbformat": 4,
 "nbformat_minor": 4
}
